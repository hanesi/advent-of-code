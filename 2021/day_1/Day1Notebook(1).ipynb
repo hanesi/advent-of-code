{
 "cells": [
  {
   "cell_type": "code",
   "execution_count": 1,
   "id": "funny-executive",
   "metadata": {},
   "outputs": [],
   "source": [
    "import csv"
   ]
  },
  {
   "cell_type": "code",
   "execution_count": 2,
   "id": "weekly-scene",
   "metadata": {},
   "outputs": [],
   "source": [
    "data = []\n",
    "with open('input-2021-1.csv') as file:\n",
    "    r = csv.reader(file, delimiter='\\n')\n",
    "    for row in r:\n",
    "        data.append(int(row[0]))\n",
    "        \n",
    "file.close()"
   ]
  },
  {
   "cell_type": "code",
   "execution_count": 3,
   "id": "together-career",
   "metadata": {},
   "outputs": [
    {
     "data": {
      "text/plain": [
       "1167"
      ]
     },
     "execution_count": 3,
     "metadata": {},
     "output_type": "execute_result"
    }
   ],
   "source": [
    "# Part 1 - Increase count from previous\n",
    "increase_count = 0\n",
    "for i in range(1, len(data)):\n",
    "    if data[i] > data[i-1]:\n",
    "        increase_count += 1\n",
    "        \n",
    "increase_count"
   ]
  },
  {
   "cell_type": "code",
   "execution_count": 9,
   "id": "criminal-shark",
   "metadata": {},
   "outputs": [
    {
     "data": {
      "text/plain": [
       "1130"
      ]
     },
     "execution_count": 9,
     "metadata": {},
     "output_type": "execute_result"
    }
   ],
   "source": [
    "# Part 2 - Increase count with sliding window\n",
    "groups = []\n",
    "for i in range(len(data)):\n",
    "    if i < len(data) - 2:\n",
    "        groups.append(data[i] + data[i+1] + data[i + 2])\n",
    "\n",
    "group_increase_count = 0\n",
    "\n",
    "for i in range(1, len(groups)):\n",
    "    if groups[i] > groups[i-1]:\n",
    "        group_increase_count += 1\n",
    "        \n",
    "group_increase_count"
   ]
  },
  {
   "cell_type": "code",
   "execution_count": null,
   "id": "conservative-ministry",
   "metadata": {},
   "outputs": [],
   "source": []
  }
 ],
 "metadata": {
  "kernelspec": {
   "display_name": "Python 3",
   "language": "python",
   "name": "python3"
  },
  "language_info": {
   "codemirror_mode": {
    "name": "ipython",
    "version": 3
   },
   "file_extension": ".py",
   "mimetype": "text/x-python",
   "name": "python",
   "nbconvert_exporter": "python",
   "pygments_lexer": "ipython3",
   "version": "3.6.9"
  }
 },
 "nbformat": 4,
 "nbformat_minor": 5
}
