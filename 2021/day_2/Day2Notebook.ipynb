{
 "cells": [
  {
   "cell_type": "code",
   "execution_count": 10,
   "id": "mobile-fiber",
   "metadata": {},
   "outputs": [
    {
     "data": {
      "text/plain": [
       "[{'forward': 9}, {'down': 3}, {'down': 8}, {'forward': 2}, {'up': 3}]"
      ]
     },
     "execution_count": 10,
     "metadata": {},
     "output_type": "execute_result"
    }
   ],
   "source": [
    "data = []\n",
    "with open('input-2021-2.txt') as f:\n",
    "    lines = f.read().splitlines()\n",
    "    for line in lines:\n",
    "        line_data = line.split(' ')\n",
    "        line_dict = {line_data[0]: int(line_data[1])}\n",
    "        data.append(line_dict)\n",
    "        \n",
    "f.close()\n",
    "        \n",
    "# data[:5]"
   ]
  },
  {
   "cell_type": "code",
   "execution_count": 22,
   "id": "fantastic-missouri",
   "metadata": {},
   "outputs": [
    {
     "name": "stdout",
     "output_type": "stream",
     "text": [
      "1451208\n"
     ]
    }
   ],
   "source": [
    "# Part 1 - Track position without aim\n",
    "\n",
    "horizontal_pos = 0\n",
    "vertical_pos = 0\n",
    "\n",
    "for i in data:\n",
    "    if 'forward' in i:\n",
    "        horizontal_pos += i['forward']\n",
    "    if 'down' in i:\n",
    "        vertical_pos += i['down']\n",
    "    if 'up' in i:\n",
    "        vertical_pos -= i['up']\n",
    "        \n",
    "print(horizontal_pos * vertical_pos)"
   ]
  },
  {
   "cell_type": "code",
   "execution_count": 24,
   "id": "killing-klein",
   "metadata": {},
   "outputs": [
    {
     "name": "stdout",
     "output_type": "stream",
     "text": [
      "10158456\n"
     ]
    }
   ],
   "source": [
    "# Part 2 - Track Position with aim\n",
    "\n",
    "hp = 0\n",
    "vp = 0\n",
    "aim = 0\n",
    "\n",
    "for i in data:\n",
    "    if 'forward' in i:\n",
    "        hp += i['forward']\n",
    "        vp = aim * i['forward']\n",
    "    if 'down' in i:\n",
    "        aim += i['down']\n",
    "    if 'up' in i:\n",
    "        aim -= i['up']\n",
    "        \n",
    "print(hp * vp)"
   ]
  },
  {
   "cell_type": "code",
   "execution_count": null,
   "id": "precise-light",
   "metadata": {},
   "outputs": [],
   "source": []
  }
 ],
 "metadata": {
  "kernelspec": {
   "display_name": "Python 3",
   "language": "python",
   "name": "python3"
  },
  "language_info": {
   "codemirror_mode": {
    "name": "ipython",
    "version": 3
   },
   "file_extension": ".py",
   "mimetype": "text/x-python",
   "name": "python",
   "nbconvert_exporter": "python",
   "pygments_lexer": "ipython3",
   "version": "3.6.9"
  }
 },
 "nbformat": 4,
 "nbformat_minor": 5
}
