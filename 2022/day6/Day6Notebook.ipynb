{
 "cells": [
  {
   "cell_type": "code",
   "execution_count": 2,
   "id": "protected-determination",
   "metadata": {},
   "outputs": [],
   "source": [
    "data = []\n",
    "with open('2022-day6-input.txt') as f:\n",
    "    lines = f.read().splitlines()\n",
    "    for line in lines:\n",
    "        data.append(line)\n",
    "f.close()\n",
    "\n",
    "# data[0]"
   ]
  },
  {
   "cell_type": "code",
   "execution_count": 13,
   "id": "photographic-eleven",
   "metadata": {},
   "outputs": [
    {
     "name": "stdout",
     "output_type": "stream",
     "text": [
      "1953\n"
     ]
    }
   ],
   "source": [
    "# Part 1 - Code of length 4\n",
    "\n",
    "start_string = data[0]\n",
    "\n",
    "for i, char in enumerate(str(start_string)):\n",
    "    if len(set(start_string[(i-4):i])) == 4:\n",
    "        print(i)\n",
    "        break\n",
    "    else:\n",
    "        continue"
   ]
  },
  {
   "cell_type": "code",
   "execution_count": 14,
   "id": "dental-township",
   "metadata": {},
   "outputs": [
    {
     "name": "stdout",
     "output_type": "stream",
     "text": [
      "2301\n"
     ]
    }
   ],
   "source": [
    "# Part 1 - Code of length 14\n",
    "\n",
    "start_string = data[0]\n",
    "\n",
    "for i, char in enumerate(str(start_string)):\n",
    "    if len(set(start_string[(i-14):i])) == 14:\n",
    "        print(i)\n",
    "        break\n",
    "    else:\n",
    "        continue"
   ]
  },
  {
   "cell_type": "code",
   "execution_count": null,
   "id": "trying-marks",
   "metadata": {},
   "outputs": [],
   "source": []
  }
 ],
 "metadata": {
  "kernelspec": {
   "display_name": "Python 3",
   "language": "python",
   "name": "python3"
  },
  "language_info": {
   "codemirror_mode": {
    "name": "ipython",
    "version": 3
   },
   "file_extension": ".py",
   "mimetype": "text/x-python",
   "name": "python",
   "nbconvert_exporter": "python",
   "pygments_lexer": "ipython3",
   "version": "3.6.9"
  }
 },
 "nbformat": 4,
 "nbformat_minor": 5
}
