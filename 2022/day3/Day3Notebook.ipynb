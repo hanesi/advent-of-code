{
 "cells": [
  {
   "cell_type": "code",
   "execution_count": 21,
   "id": "built-terrace",
   "metadata": {},
   "outputs": [],
   "source": [
    "import string"
   ]
  },
  {
   "cell_type": "code",
   "execution_count": null,
   "id": "communist-ancient",
   "metadata": {},
   "outputs": [],
   "source": [
    "data = []\n",
    "with open('2022-day3-input.txt') as f:\n",
    "    lines = f.read().splitlines()\n",
    "    for line in lines:\n",
    "        data.append(line)\n",
    "    \n",
    "f.close()\n",
    "\n",
    "data[0:5]"
   ]
  },
  {
   "cell_type": "code",
   "execution_count": 25,
   "id": "loved-period",
   "metadata": {},
   "outputs": [],
   "source": [
    "#Part 1: Sum of common Items\n",
    "\n",
    "tracking = {}\n",
    "values = {}\n",
    "ct = 1\n",
    "lower = string.ascii_lowercase\n",
    "upper = string.ascii_uppercase\n",
    "all_strs = lower+upper\n",
    "for i in data:\n",
    "    if len(i) % 2 == 0:\n",
    "        mid = int(len(i) / 2)\n",
    "        intersection = set(i[:mid]) & set(i[mid:])\n",
    "        for i in intersection:\n",
    "            if i in tracking:\n",
    "                tracking[i] += 1\n",
    "            else:\n",
    "                tracking[i] = 1\n",
    "                \n",
    "for i in all_strs:\n",
    "    values[i] = ct\n",
    "    ct += 1\n",
    "\n",
    "# values"
   ]
  },
  {
   "cell_type": "code",
   "execution_count": 26,
   "id": "liable-incentive",
   "metadata": {},
   "outputs": [
    {
     "data": {
      "text/plain": [
       "8039"
      ]
     },
     "execution_count": 26,
     "metadata": {},
     "output_type": "execute_result"
    }
   ],
   "source": [
    "count = 0\n",
    "for k, v in tracking.items():\n",
    "    count += values[k] * v\n",
    "\n",
    "count"
   ]
  },
  {
   "cell_type": "code",
   "execution_count": 37,
   "id": "recent-honey",
   "metadata": {},
   "outputs": [],
   "source": [
    "# Part 2: Sum of items in groups of 3\n",
    "group_list = []\n",
    "tracking2 = {}\n",
    "\n",
    "for i in data:\n",
    "    if len(i) % 2 == 0:\n",
    "        mid = int(len(i) / 2)\n",
    "        intersection = set(i[:mid]) & set(i[mid:])\n",
    "        if len(group_list) == 6:\n",
    "            intersections = set(group_lists[0]) & set(group_lists[1]) & set(group_lists[2]) & set(group_lists[3]) & set(group_lists[4]) & set(group_lists[5])\n",
    "            for j in intersection:\n",
    "                if j in tracking2:\n",
    "                    tracking2[j] += 1\n",
    "                else:\n",
    "                    tracking2[j] = 1\n",
    "            group_list.clear()\n",
    "        else:\n",
    "            group_list.append(i[:mid])\n",
    "            group_list.append(i[mid:])\n"
   ]
  },
  {
   "cell_type": "code",
   "execution_count": 41,
   "id": "turned-spencer",
   "metadata": {},
   "outputs": [],
   "source": [
    "count2 = 0\n",
    "for k, v in tracking2.items():\n",
    "    count2 += values[k] * v"
   ]
  },
  {
   "cell_type": "code",
   "execution_count": null,
   "id": "official-average",
   "metadata": {},
   "outputs": [],
   "source": []
  }
 ],
 "metadata": {
  "kernelspec": {
   "display_name": "Python 3",
   "language": "python",
   "name": "python3"
  },
  "language_info": {
   "codemirror_mode": {
    "name": "ipython",
    "version": 3
   },
   "file_extension": ".py",
   "mimetype": "text/x-python",
   "name": "python",
   "nbconvert_exporter": "python",
   "pygments_lexer": "ipython3",
   "version": "3.6.9"
  }
 },
 "nbformat": 4,
 "nbformat_minor": 5
}
