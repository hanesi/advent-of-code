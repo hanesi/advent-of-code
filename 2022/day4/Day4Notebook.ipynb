{
 "cells": [
  {
   "cell_type": "code",
   "execution_count": 1,
   "id": "lyric-maryland",
   "metadata": {},
   "outputs": [
    {
     "data": {
      "text/plain": [
       "['11-73,29-73', '43-82,44-44', '13-85,12-36', '69-80,5-44', '60-63,30-62']"
      ]
     },
     "execution_count": 1,
     "metadata": {},
     "output_type": "execute_result"
    }
   ],
   "source": [
    "data = []\n",
    "with open(\"2022-day4-input.txt\") as f:\n",
    "    lines = f.read().splitlines()\n",
    "    for line in lines:\n",
    "        data.append(line)\n",
    "\n",
    "f.close()\n",
    "\n",
    "data[:5]"
   ]
  },
  {
   "cell_type": "code",
   "execution_count": 13,
   "id": "wrong-phoenix",
   "metadata": {},
   "outputs": [
    {
     "data": {
      "text/plain": [
       "528"
      ]
     },
     "execution_count": 13,
     "metadata": {},
     "output_type": "execute_result"
    }
   ],
   "source": [
    "# Part 1 - check which ranges overlap completely\n",
    "\n",
    "fully_contained = 0\n",
    "for i in data:\n",
    "    ranges = i.split(',')\n",
    "    range1 = list(range(int(ranges[0].split('-')[0]), int(ranges[0].split('-')[1]) + 1))\n",
    "    range2 = list(range(int(ranges[1].split('-')[0]), int(ranges[1].split('-')[1]) + 1))\n",
    "    \n",
    "    check = all(i in range1 for i in range2)\n",
    "    check2 = all(i in range2 for i in range1)\n",
    "    if check or check2:\n",
    "        fully_contained += 1\n",
    "    \n",
    "fully_contained"
   ]
  },
  {
   "cell_type": "code",
   "execution_count": 14,
   "id": "greater-yacht",
   "metadata": {},
   "outputs": [
    {
     "data": {
      "text/plain": [
       "881"
      ]
     },
     "execution_count": 14,
     "metadata": {},
     "output_type": "execute_result"
    }
   ],
   "source": [
    "# Part 2 - check which ranges overlap at all\n",
    "\n",
    "partly_contained = 0\n",
    "\n",
    "fully_contained = 0\n",
    "for i in data:\n",
    "    ranges = i.split(',')\n",
    "    range1 = list(range(int(ranges[0].split('-')[0]), int(ranges[0].split('-')[1]) + 1))\n",
    "    range2 = list(range(int(ranges[1].split('-')[0]), int(ranges[1].split('-')[1]) + 1))\n",
    "    \n",
    "    check = any(i in range1 for i in range2)\n",
    "    check2 = any(i in range2 for i in range1)\n",
    "    if check or check2:\n",
    "        partly_contained += 1\n",
    "        \n",
    "partly_contained"
   ]
  },
  {
   "cell_type": "code",
   "execution_count": null,
   "id": "higher-trunk",
   "metadata": {},
   "outputs": [],
   "source": []
  }
 ],
 "metadata": {
  "kernelspec": {
   "display_name": "Python 3",
   "language": "python",
   "name": "python3"
  },
  "language_info": {
   "codemirror_mode": {
    "name": "ipython",
    "version": 3
   },
   "file_extension": ".py",
   "mimetype": "text/x-python",
   "name": "python",
   "nbconvert_exporter": "python",
   "pygments_lexer": "ipython3",
   "version": "3.6.9"
  }
 },
 "nbformat": 4,
 "nbformat_minor": 5
}
