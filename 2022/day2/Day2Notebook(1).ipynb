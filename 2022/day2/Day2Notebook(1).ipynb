{
 "cells": [
  {
   "cell_type": "code",
   "execution_count": 1,
   "id": "sunset-insight",
   "metadata": {},
   "outputs": [
    {
     "data": {
      "text/plain": [
       "[['A', 'X'], ['B', 'Y'], ['B', 'Y'], ['C', 'X'], ['B', 'X']]"
      ]
     },
     "execution_count": 1,
     "metadata": {},
     "output_type": "execute_result"
    }
   ],
   "source": [
    "data = []\n",
    "with open(\"2022-day2-input.txt\") as f:\n",
    "    lines = f.read().splitlines()\n",
    "    for line in lines:\n",
    "        data.append(line.split(' '))\n",
    "    \n",
    "f.close()\n",
    "\n",
    "data[:5]"
   ]
  },
  {
   "cell_type": "code",
   "execution_count": 8,
   "id": "romance-facing",
   "metadata": {},
   "outputs": [],
   "source": [
    "outcome_dict = {\n",
    "    'A': {'X': 4, 'Y': 8, 'Z': 3},# 1 2 3 3 6 0\n",
    "    'B': {'X': 1, 'Y': 5, 'Z': 9},# 1 2 3 0 3 6\n",
    "    'C': {'X': 7, 'Y': 2, 'Z': 6}# 1 2 3 6 0 3\n",
    "}"
   ]
  },
  {
   "cell_type": "code",
   "execution_count": 9,
   "id": "dressed-proposal",
   "metadata": {},
   "outputs": [
    {
     "data": {
      "text/plain": [
       "12794"
      ]
     },
     "execution_count": 9,
     "metadata": {},
     "output_type": "execute_result"
    }
   ],
   "source": [
    "# Part 1 - Follow the strategy based on winning\n",
    "\n",
    "count = 0\n",
    "for i in data:\n",
    "    count += outcome_dict[i[0]][i[1]]\n",
    "    \n",
    "count"
   ]
  },
  {
   "cell_type": "code",
   "execution_count": 10,
   "id": "inside-stomach",
   "metadata": {},
   "outputs": [
    {
     "data": {
      "text/plain": [
       "14979"
      ]
     },
     "execution_count": 10,
     "metadata": {},
     "output_type": "execute_result"
    }
   ],
   "source": [
    "# Part 2 - Follow the strategy based on OUTCOME\n",
    "outcome_dict = {\n",
    "    'A': {'X': 3, 'Y': 4, 'Z': 8},# 1 2 3 3 6 0\n",
    "    'B': {'X': 1, 'Y': 5, 'Z': 9},# 1 2 3 0 3 6\n",
    "    'C': {'X': 2, 'Y': 6, 'Z': 7}# 1 2 3 6 0 3\n",
    "}\n",
    "\n",
    "count = 0\n",
    "for i in data:\n",
    "    count += outcome_dict[i[0]][i[1]]\n",
    "    \n",
    "count"
   ]
  },
  {
   "cell_type": "code",
   "execution_count": null,
   "id": "greenhouse-wallpaper",
   "metadata": {},
   "outputs": [],
   "source": []
  }
 ],
 "metadata": {
  "kernelspec": {
   "display_name": "Python 3",
   "language": "python",
   "name": "python3"
  },
  "language_info": {
   "codemirror_mode": {
    "name": "ipython",
    "version": 3
   },
   "file_extension": ".py",
   "mimetype": "text/x-python",
   "name": "python",
   "nbconvert_exporter": "python",
   "pygments_lexer": "ipython3",
   "version": "3.6.9"
  }
 },
 "nbformat": 4,
 "nbformat_minor": 5
}
