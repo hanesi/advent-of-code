{
 "cells": [
  {
   "cell_type": "code",
   "execution_count": 5,
   "id": "personalized-fundamentals",
   "metadata": {},
   "outputs": [],
   "source": [
    "data = []\n",
    "with open('2022-day1-input.txt') as f:\n",
    "    lines = f.read().splitlines()\n",
    "    for line in lines:\n",
    "        data.append(line)\n",
    "    \n",
    "f.close()"
   ]
  },
  {
   "cell_type": "code",
   "execution_count": 12,
   "id": "killing-genius",
   "metadata": {},
   "outputs": [
    {
     "data": {
      "text/plain": [
       "70296"
      ]
     },
     "execution_count": 12,
     "metadata": {},
     "output_type": "execute_result"
    }
   ],
   "source": [
    "## Part 1 - Calculate the max calorie carrier\n",
    "\n",
    "current_sum = 0\n",
    "max_sum = 0\n",
    "\n",
    "for i in range(len(data)):\n",
    "    if data[i] != '':\n",
    "        current_sum += int(data[i])\n",
    "        if int(current_sum) > max_sum:\n",
    "            max_sum = int(current_sum)\n",
    "    if data[i] == '':\n",
    "        current_sum = 0\n",
    "\n",
    "max_sum"
   ]
  },
  {
   "cell_type": "code",
   "execution_count": 15,
   "id": "invalid-founder",
   "metadata": {},
   "outputs": [],
   "source": [
    "## Part 2 - Calculate the top 3 calorie calculators\n",
    "\n",
    "calorie_list = []\n",
    "current_sum = 0\n",
    "\n",
    "for i in range(len(data)):\n",
    "    if data[i] != '':\n",
    "        current_sum += int(data[i])\n",
    "    if data[i] == '':\n",
    "        calorie_list.append(current_sum)\n",
    "        current_sum = 0\n",
    "        \n",
    "calorie_list.sort(reverse=True)"
   ]
  },
  {
   "cell_type": "code",
   "execution_count": 17,
   "id": "exotic-wagner",
   "metadata": {},
   "outputs": [
    {
     "data": {
      "text/plain": [
       "205381"
      ]
     },
     "execution_count": 17,
     "metadata": {},
     "output_type": "execute_result"
    }
   ],
   "source": [
    "sum(calorie_list[:3])"
   ]
  },
  {
   "cell_type": "code",
   "execution_count": null,
   "id": "governmental-locking",
   "metadata": {},
   "outputs": [],
   "source": []
  }
 ],
 "metadata": {
  "kernelspec": {
   "display_name": "Python 3",
   "language": "python",
   "name": "python3"
  },
  "language_info": {
   "codemirror_mode": {
    "name": "ipython",
    "version": 3
   },
   "file_extension": ".py",
   "mimetype": "text/x-python",
   "name": "python",
   "nbconvert_exporter": "python",
   "pygments_lexer": "ipython3",
   "version": "3.6.9"
  }
 },
 "nbformat": 4,
 "nbformat_minor": 5
}
